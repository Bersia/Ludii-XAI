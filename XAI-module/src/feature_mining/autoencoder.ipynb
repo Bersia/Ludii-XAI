{
 "cells": [
  {
   "metadata": {},
   "cell_type": "markdown",
   "source": "# Auto-Encoders",
   "id": "cdec700adfc99af6"
  },
  {
   "metadata": {},
   "cell_type": "markdown",
   "source": "## 1 - Convolutional AE",
   "id": "44c12617c9314e50"
  },
  {
   "metadata": {
    "ExecuteTime": {
     "end_time": "2024-10-25T12:24:16.993711Z",
     "start_time": "2024-10-25T12:24:16.811453Z"
    }
   },
   "cell_type": "code",
   "source": "import PIL.ImageOps\n",
   "id": "e13c6f33f556252",
   "outputs": [],
   "execution_count": 1
  },
  {
   "metadata": {},
   "cell_type": "markdown",
   "source": "## 2 - U-Net",
   "id": "3d8eff2fb56862ff"
  },
  {
   "metadata": {
    "ExecuteTime": {
     "end_time": "2024-10-28T09:19:11.287402Z",
     "start_time": "2024-10-28T09:19:05.690650Z"
    }
   },
   "cell_type": "code",
   "source": [
    "import os\n",
    "import PIL\n",
    "import torch\n",
    "import datetime\n",
    "import torchvision\n",
    "\n",
    "from torch import nn\n",
    "from PIL import Image\n",
    "from torch.utils.data import DataLoader\n",
    "from torch.utils.tensorboard import SummaryWriter\n",
    "from skimage import io\n",
    "from torchvision import transforms, utils"
   ],
   "id": "ff9edfa0c5382cb1",
   "outputs": [],
   "execution_count": 1
  },
  {
   "metadata": {
    "ExecuteTime": {
     "end_time": "2024-10-28T09:19:12.949916Z",
     "start_time": "2024-10-28T09:19:11.288416Z"
    }
   },
   "cell_type": "code",
   "source": [
    "device = (\n",
    "    \"cuda\" if torch.cuda.is_available() \n",
    "    else \"cpu\"\n",
    ")\n",
    "\n",
    "print(f\"Using {device} device.\")"
   ],
   "id": "45c361dbabceae0d",
   "outputs": [
    {
     "name": "stdout",
     "output_type": "stream",
     "text": [
      "Using cuda device.\n"
     ]
    }
   ],
   "execution_count": 2
  },
  {
   "metadata": {
    "ExecuteTime": {
     "end_time": "2024-10-28T09:19:12.962100Z",
     "start_time": "2024-10-28T09:19:12.949916Z"
    }
   },
   "cell_type": "code",
   "source": [
    "class UNet(nn.Module):\n",
    "    def __init__(self):\n",
    "        super().__init__()\n",
    "        \n",
    "        self.f1 = self.create_conv_block(3, 64)\n",
    "        self.p1 = nn.MaxPool2d(kernel_size=2, stride=2)\n",
    "        \n",
    "        self.f2 = self.create_conv_block(64, 128)\n",
    "        self.p2 = nn.MaxPool2d(kernel_size=2, stride=2)\n",
    "        \n",
    "        self.f3 = self.create_conv_block(128, 256)\n",
    "        self.p3 = nn.MaxPool2d(kernel_size=2, stride=2)\n",
    "        \n",
    "        self.f4 = self.create_conv_block(256, 512)\n",
    "        self.p4 = nn.MaxPool2d(kernel_size=2, stride=2)\n",
    "        \n",
    "        self.f5 = self.create_conv_block(512, 1024)\n",
    "        self.p5 = nn.ConvTranspose2d(1024, 512, kernel_size=3, stride=2)\n",
    "        \n",
    "        self.f6 = self.create_conv_block(1024, 512)\n",
    "        self.p6 = nn.ConvTranspose2d(512, 256, kernel_size=3, stride=2)\n",
    "        \n",
    "        self.f7 = self.create_conv_block(512, 256)\n",
    "        self.p7 = nn.ConvTranspose2d(256, 128, kernel_size=2, stride=2)\n",
    "        \n",
    "        self.f8 = self.create_conv_block(256, 128)\n",
    "        self.p8 = nn.ConvTranspose2d(128, 64, kernel_size=2, stride=2)\n",
    "        \n",
    "        self.f9 = self.create_conv_block(128, 64)\n",
    "        self.p9 = nn.Conv2d(64, 3, kernel_size=1)\n",
    "        \n",
    "    def forward(self, x):\n",
    "        x = x.to(device)\n",
    "        \n",
    "        f1 = self.f1(x)\n",
    "        p1 = self.p1(f1)\n",
    "        \n",
    "        f2 = self.f2(p1)\n",
    "        p2 = self.p2(f2)\n",
    "        \n",
    "        f3 = self.f3(p2)\n",
    "        p3 = self.p3(f3)\n",
    "        \n",
    "        f4 = self.f4(p3)\n",
    "        p4 = self.p4(f4)\n",
    "        \n",
    "        f5 = self.f5(p4)\n",
    "        p5 = self.p5(f5)\n",
    "        \n",
    "        f6 = self.f6(torch.cat([f4, p5], dim=1))\n",
    "        p6 = self.p6(f6)\n",
    "        \n",
    "        f7 = self.f7(torch.cat([f3, p6], dim=1))\n",
    "        p7 = self.p7(f7)\n",
    "        \n",
    "        f8 = self.f8(torch.cat([f2, p7], dim=1))\n",
    "        p8 = self.p8(f8)\n",
    "        \n",
    "        f9 = self.f9(torch.cat([f1, p8], dim=1))\n",
    "        p9 = self.p9(f9)\n",
    "        \n",
    "        return p9\n",
    "        \n",
    "    def create_conv_block(self, num_channels_in, num_channels_out):\n",
    "        block = nn.Sequential(\n",
    "            nn.Conv2d(num_channels_in, num_channels_out, kernel_size=3, padding=1),\n",
    "            nn.ReLU(),\n",
    "            nn.Conv2d(num_channels_out, num_channels_out, kernel_size=3, padding=1),\n",
    "            nn.ReLU()\n",
    "        )\n",
    "        \n",
    "        return block\n",
    "    \n",
    "    # https://pytorch.org/tutorials/beginner/introyt/trainingyt.html\n",
    "    def train_model(self, train_loader, val_loader, epochs, optimizer, loss_fn):   \n",
    "        timestamp = datetime.datetime.now().strftime(\"%Y-%m-%d_%H-%M-%S\")\n",
    "        writer = SummaryWriter(log_dir=os.path.join(Path().resolve().parents[1], f\"logs\\\\UNet_trainer_{timestamp}\"))\n",
    "        \n",
    "        best_v_loss = 1_000_000\n",
    "        \n",
    "        for epoch in range(epochs):\n",
    "            print(f\"Epoch {epoch+1}/{epochs}: \")\n",
    "            \n",
    "            self.train(True)\n",
    "            last_loss = 0\n",
    "            \n",
    "            for i, data in enumerate(train_loader):\n",
    "                data = data.to(device)\n",
    "                running_loss = 0\n",
    "                \n",
    "                optimizer.zero_grad()\n",
    "                predictions = self(data)\n",
    "                \n",
    "                loss = loss_fn(predictions, data)\n",
    "                loss.backward()\n",
    "                \n",
    "                optimizer.step()\n",
    "                \n",
    "                running_loss += loss.item()\n",
    "                # if i % 50 == 49:\n",
    "                last_loss = running_loss #/ 50\n",
    "                tb_x = epoch  * len(train_loader) + i + 1\n",
    "                writer.add_scalar('Loss/train', last_loss, tb_x)\n",
    "                running_loss = 0\n",
    "                    \n",
    "            running_v_loss = 0.0\n",
    "            self.eval()\n",
    "            \n",
    "            with torch.no_grad():\n",
    "                for i, v_data in enumerate(val_loader):\n",
    "                    v_preds = self(v_data)\n",
    "                    v_loss = loss_fn(v_preds, v_data)\n",
    "                    running_v_loss += v_loss.item()\n",
    "                    \n",
    "            avg_v_loss = running_v_loss / (epoch + 1)\n",
    "            print(f\"    | Loss train: {last_loss}\\n    | Loss validation: {avg_v_loss}\")\n",
    "            \n",
    "            writer.add_scalars('Training vs. Validation Loss', {\"Training\": last_loss, \"Validation\": avg_v_loss}, epoch + 1)\n",
    "            writer.flush()\n",
    "            \n",
    "            if avg_v_loss < best_v_loss:\n",
    "                best_v_loss = avg_v_loss\n",
    "                model_path = os.path.join(Path().resolve().parents[1], f\"model_{timestamp}_{epoch}\")\n",
    "                torch.save(self.state_dict(), model_path)\n",
    "            \n",
    "        return"
   ],
   "id": "ea47bf477f71329",
   "outputs": [],
   "execution_count": 3
  },
  {
   "metadata": {
    "ExecuteTime": {
     "end_time": "2024-10-28T09:19:12.968157Z",
     "start_time": "2024-10-28T09:19:12.963455Z"
    }
   },
   "cell_type": "code",
   "source": [
    "class TreemapsDataset(torch.utils.data.Dataset):\n",
    "    def __init__(self, image_folder, transform=None):\n",
    "        self.image_dir = image_folder\n",
    "        self.transform = transform\n",
    "    \n",
    "    #     https://stackoverflow.com/questions/2632205/how-to-count-the-number-of-files-in-a-directory-using-python\n",
    "    def __len__(self):\n",
    "        files_in_dir = next(os.walk(self.image_dir))[2]\n",
    "        return len(files_in_dir)\n",
    "    \n",
    "    def __getitem__(self, item):\n",
    "        if torch.is_tensor(item):\n",
    "            item = item.tolist()\n",
    "            \n",
    "        image = io.imread(os.path.join(self.image_dir, f\"treemap_{item}.png\"))\n",
    "        \n",
    "        if self.transform:\n",
    "            image = self.transform(image)\n",
    "        \n",
    "        return image"
   ],
   "id": "469cd5c49c198f23",
   "outputs": [],
   "execution_count": 4
  },
  {
   "metadata": {
    "ExecuteTime": {
     "end_time": "2024-10-28T09:19:13.221771Z",
     "start_time": "2024-10-28T09:19:12.969165Z"
    }
   },
   "cell_type": "code",
   "source": [
    "import matplotlib.pyplot as plt\n",
    "from pathlib import Path\n",
    "\n",
    "batch_size = 1\n",
    "\n",
    "transform = transforms.ToTensor()\n",
    "dataset_train = TreemapsDataset(image_folder=os.path.join(Path().resolve().parents[1], \"outputs\\\\treemaps\\\\train\"), transform=transform)\n",
    "dataset_val = TreemapsDataset(image_folder=os.path.join(Path().resolve().parents[1], \"outputs\\\\treemaps\\\\validation\"), transform=transform)\n",
    "\n",
    "dataloader_train = torch.utils.data.DataLoader(dataset_train, batch_size=batch_size, shuffle=True)\n",
    "dataloader_val = torch.utils.data.DataLoader(dataset_val, batch_size=batch_size, shuffle=False)"
   ],
   "id": "49d7038571929166",
   "outputs": [],
   "execution_count": 5
  },
  {
   "metadata": {
    "ExecuteTime": {
     "end_time": "2024-10-28T09:19:13.425659Z",
     "start_time": "2024-10-28T09:19:13.222777Z"
    }
   },
   "cell_type": "code",
   "source": [
    "def show_landmarks_batch(images_batch):\n",
    "    batch_size = len(images_batch)\n",
    "\n",
    "    grid = utils.make_grid(images_batch, padding=25, pad_value=255)\n",
    "    plt.imshow(grid.numpy().transpose((1, 2, 0)))\n",
    "\n",
    "    for i in range(batch_size):\n",
    "\n",
    "        plt.title('Batch from dataloader')\n",
    "        \n",
    "for i_batch, sample_batched in enumerate(dataloader_train):\n",
    "    print(i_batch, sample_batched.size())\n",
    "\n",
    "    # observe 4th batch and stop.\n",
    "    if i_batch == 0:\n",
    "        plt.figure()\n",
    "        show_landmarks_batch(sample_batched)\n",
    "        plt.axis('off')\n",
    "        plt.ioff()\n",
    "        plt.show()\n",
    "        break"
   ],
   "id": "2632f3954b5fa818",
   "outputs": [
    {
     "name": "stdout",
     "output_type": "stream",
     "text": [
      "0 torch.Size([1, 3, 1500, 1500])\n"
     ]
    },
    {
     "data": {
      "text/plain": [
       "<Figure size 640x480 with 1 Axes>"
      ],
      "image/png": "[encoded data removed]"
     },
     "metadata": {},
     "output_type": "display_data"
    }
   ],
   "execution_count": 6
  },
  {
   "metadata": {
    "ExecuteTime": {
     "end_time": "2024-10-28T09:33:05.377892Z",
     "start_time": "2024-10-28T09:19:13.426665Z"
    }
   },
   "cell_type": "code",
   "source": [
    "unet = UNet().to(device)\n",
    "\n",
    "loss_fn = nn.CrossEntropyLoss()\n",
    "optimizer = torch.optim.Adam(unet.parameters(), lr=1e-3)\n",
    "\n",
    "unet.train_model(dataloader_train, dataloader_val, 10, optimizer, loss_fn)"
   ],
   "id": "f83ea4520d6165b1",
   "outputs": [
    {
     "name": "stdout",
     "output_type": "stream",
     "text": [
      "Epoch 1/10: \n",
      "    | Loss train: 1.9338613748550415\n",
      "    | Loss validation: 0.0\n",
      "Epoch 2/10: \n",
      "    | Loss train: 1.9321833848953247\n",
      "    | Loss validation: 0.0\n",
      "Epoch 3/10: \n",
      "    | Loss train: 2.0109384059906006\n",
      "    | Loss validation: 0.0\n",
      "Epoch 4/10: \n",
      "    | Loss train: 2.010826587677002\n",
      "    | Loss validation: 0.0\n",
      "Epoch 5/10: \n",
      "    | Loss train: 1.9318552017211914\n",
      "    | Loss validation: 0.0\n",
      "Epoch 6/10: \n",
      "    | Loss train: 2.452840566635132\n",
      "    | Loss validation: 0.0\n",
      "Epoch 7/10: \n",
      "    | Loss train: 1.9318727254867554\n",
      "    | Loss validation: 0.0\n",
      "Epoch 8/10: \n",
      "    | Loss train: 1.93185293674469\n",
      "    | Loss validation: 0.0\n",
      "Epoch 9/10: \n",
      "    | Loss train: 2.45279860496521\n",
      "    | Loss validation: 0.0\n",
      "Epoch 10/10: \n",
      "    | Loss train: 2.4528026580810547\n",
      "    | Loss validation: 0.0\n"
     ]
    }
   ],
   "execution_count": 7
  },
  {
   "metadata": {
    "ExecuteTime": {
     "end_time": "2024-10-25T12:24:22.518794Z",
     "start_time": "2024-10-25T12:24:22.518794Z"
    }
   },
   "cell_type": "code",
   "source": "",
   "id": "e41f3b931e1bce96",
   "outputs": [],
   "execution_count": null
  }
 ],
 "metadata": {
  "kernelspec": {
   "display_name": "Python 3",
   "language": "python",
   "name": "python3"
  },
  "language_info": {
   "codemirror_mode": {
    "name": "ipython",
    "version": 2
   },
   "file_extension": ".py",
   "mimetype": "text/x-python",
   "name": "python",
   "nbconvert_exporter": "python",
   "pygments_lexer": "ipython2",
   "version": "2.7.6"
  }
 },
 "nbformat": 4,
 "nbformat_minor": 5
}
